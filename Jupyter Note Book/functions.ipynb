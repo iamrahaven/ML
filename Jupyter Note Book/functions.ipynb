{
 "cells": [
  {
   "cell_type": "code",
   "execution_count": 1,
   "metadata": {},
   "outputs": [
    {
     "name": "stdout",
     "output_type": "stream",
     "text": [
      "painting\n"
     ]
    }
   ],
   "source": [
    "def painter():\n",
    "    print(\"painting\")\n",
    "painter()"
   ]
  },
  {
   "cell_type": "code",
   "execution_count": 12,
   "metadata": {},
   "outputs": [
    {
     "name": "stdout",
     "output_type": "stream",
     "text": [
      "Add:  5 + 5 = 10\n",
      "Sub:  5 - 5 = 0\n",
      "Multi:  5 * 5 = 25\n",
      "Div:  5 / 5 = 1.0\n"
     ]
    }
   ],
   "source": [
    "def add():\n",
    "    a=int(input(\"Enter the Number A: \"))\n",
    "    b=int(input(\"Enter the Number B: \"))\n",
    "    c=print(\"Add: \",a,\"+\",b,\"=\",a+b)\n",
    "add()\n",
    "def sub():\n",
    "    a=int(input(\"Enter the Number A: \"))\n",
    "    b=int(input(\"Enter the Number B: \"))\n",
    "    c=print(\"Sub: \",a,\"-\",b,\"=\",a-b)\n",
    "sub()\n",
    "def multi():\n",
    "    a=int(input(\"Enter the Number A: \"))\n",
    "    b=int(input(\"Enter the Number B: \"))\n",
    "    c=print(\"Multi: \",a,\"*\",b,\"=\",a*b)\n",
    "multi()\n",
    "def div():\n",
    "    a=int(input(\"Enter the Number A: \"))\n",
    "    b=int(input(\"Enter the Number B: \"))\n",
    "    c=print(\"Div: \",a,\"/\",b,\"=\",a/b)\n",
    "div()"
   ]
  },
  {
   "cell_type": "code",
   "execution_count": 39,
   "metadata": {},
   "outputs": [
    {
     "name": "stdout",
     "output_type": "stream",
     "text": [
      "11 is Odd\n"
     ]
    }
   ],
   "source": [
    "def oddoreven(b):\n",
    "    if(b%2==0):\n",
    "        print(b,\"is even\")\n",
    "    else:\n",
    "        print(b,\"is Odd\")\n",
    "a=int(input(\"A: \"))\n",
    "oddoreven(a)"
   ]
  },
  {
   "cell_type": "code",
   "execution_count": 50,
   "metadata": {},
   "outputs": [
    {
     "name": "stdout",
     "output_type": "stream",
     "text": [
      "Fail\n"
     ]
    }
   ],
   "source": [
    "def passorfail(b):\n",
    "    if(b>=35):\n",
    "        print(\"Pass\")\n",
    "    else:\n",
    "        print(\"Fail\")\n",
    "a=int(input(\"Enter the Mark:\"))\n",
    "passorfail(a)"
   ]
  },
  {
   "cell_type": "code",
   "execution_count": 55,
   "metadata": {},
   "outputs": [
    {
     "name": "stdout",
     "output_type": "stream",
     "text": [
      "5\n",
      "6\n",
      "7\n",
      "8\n",
      "9\n",
      "10\n",
      "11\n",
      "12\n",
      "13\n",
      "14\n"
     ]
    }
   ],
   "source": [
    "def printrange(r1,r2):\n",
    "    for c in range(r1,r2):\n",
    "        print(c)\n",
    "a=int(input(\"Enter the From number: \"))\n",
    "b=int(input(\"Enter the To number: \"))\n",
    "printrange(a,b)"
   ]
  },
  {
   "cell_type": "code",
   "execution_count": 32,
   "metadata": {},
   "outputs": [
    {
     "name": "stdout",
     "output_type": "stream",
     "text": [
      "Enter the correct Username and Password\n",
      "None\n"
     ]
    }
   ],
   "source": [
    "#user name and password\n",
    "A_username=\"Rahas\"\n",
    "A_password=\"12345\"\n",
    "username=input(\"Username: \")\n",
    "password=input(\"Password: \")\n",
    "def validate():\n",
    "    if(A_username==username and A_password==password):\n",
    "        return True\n",
    "        print(\"Hi Human, Welcome to Machine World !\")\n",
    "    else:\n",
    "        return False\n",
    "        print(\"Enter the correct Username and Password\")\n",
    "a=validate()\n",
    "print(a)"
   ]
  },
  {
   "cell_type": "code",
   "execution_count": 30,
   "metadata": {},
   "outputs": [
    {
     "name": "stdout",
     "output_type": "stream",
     "text": [
      "10 + 20 = 30\n",
      "30 X 10 = 300\n"
     ]
    }
   ],
   "source": [
    "def add(b1,b2):\n",
    "    return b1+b2\n",
    "a=int(input(\"A:\")) \n",
    "b=int(input(\"B:\"))\n",
    "c=int(input(\"C:\"))\n",
    "added=add(a,b)\n",
    "output=added*c\n",
    "print(a,\"+\",b,\"=\",added)\n",
    "print(added,\"X\",c,\"=\",output)\n",
    " "
   ]
  }
 ],
 "metadata": {
  "kernelspec": {
   "display_name": "Python 3",
   "language": "python",
   "name": "python3"
  },
  "language_info": {
   "codemirror_mode": {
    "name": "ipython",
    "version": 3
   },
   "file_extension": ".py",
   "mimetype": "text/x-python",
   "name": "python",
   "nbconvert_exporter": "python",
   "pygments_lexer": "ipython3",
   "version": "3.11.4"
  },
  "orig_nbformat": 4
 },
 "nbformat": 4,
 "nbformat_minor": 2
}
