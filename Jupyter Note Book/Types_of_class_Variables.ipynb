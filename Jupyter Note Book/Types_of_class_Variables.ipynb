{
 "cells": [
  {
   "cell_type": "code",
   "execution_count": 15,
   "metadata": {},
   "outputs": [
    {
     "name": "stdout",
     "output_type": "stream",
     "text": [
      "Brand: Samsung\n",
      "Price: 25000\n",
      "Type: B-Type\n",
      "Brand: Apple\n",
      "Price: 100000\n",
      "Type: B-Type\n"
     ]
    }
   ],
   "source": [
    "class phone():\n",
    "    Type=\"C-type\"\n",
    "    def __init__(self,brand,price):\n",
    "        self.brand=brand\n",
    "        self.price=price\n",
    "    def display(self):\n",
    "        print(\"Brand:\",self.brand)\n",
    "        print(\"Price:\",self.price)\n",
    "        print(\"Type:\",self.Type)\n",
    "\n",
    "phone.Type=\"B-Type\"\n",
    " \n",
    "samsung=phone(\"Samsung\",25000)\n",
    "samsung.display()\n",
    "\n",
    "Apple=phone(\"Apple\",100000)\n",
    "Apple.display()"
   ]
  },
  {
   "cell_type": "code",
   "execution_count": 29,
   "metadata": {},
   "outputs": [
    {
     "name": "stdout",
     "output_type": "stream",
     "text": [
      "20000\n",
      "B-type\n",
      "this is mine\n"
     ]
    }
   ],
   "source": [
    "#Types of Methods (Funcations)\n",
    "class Laptop:\n",
    "    Chargertype=\"C-Type\"\n",
    "    \n",
    "    def __init__(self):\n",
    "        self.brand=\"\"\n",
    "        self.price=34000\n",
    "    def setprice(self,price): \n",
    "        self.price=price\n",
    "    def getprice(self):\n",
    "        print(self.price)\n",
    "    @classmethod\n",
    "    def a(cls):\n",
    "        cls.Chargertype=\"B-type\"\n",
    "        print(cls.Chargertype)\n",
    "    @staticmethod\n",
    "    def info():\n",
    "        print(\"this is mine\")\n",
    "hp=Laptop()\n",
    "hp.setprice(20000)\n",
    "hp.getprice()\n",
    "Laptop.a()\n",
    "hp.info()"
   ]
  },
  {
   "cell_type": "code",
   "execution_count": 9,
   "metadata": {},
   "outputs": [
    {
     "name": "stdout",
     "output_type": "stream",
     "text": [
      "Dad's Phone\n",
      "I love sweet\n"
     ]
    }
   ],
   "source": [
    "#Inheritance\n",
    "class dad(son): #single Inheritance\n",
    "    def phone(self):\n",
    "        print(\"Dad's Phone\")\n",
    "class mom():\n",
    "    def sweet(self):\n",
    "        print(\"I love sweet\")\n",
    "class son(dad,mom): # Multiple Inheritance\n",
    "    def laptop(self):\n",
    "        print(\"Son's Laptop\")\n",
    "Ram=son()\n",
    "Ram.phone()\n",
    "Ram.sweet()"
   ]
  },
  {
   "cell_type": "code",
   "execution_count": 14,
   "metadata": {},
   "outputs": [
    {
     "name": "stdout",
     "output_type": "stream",
     "text": [
      "Grand Father Mobile\n",
      "Money\n",
      "Son's Laptop\n",
      "Grand Father Mobile\n"
     ]
    }
   ],
   "source": [
    " # Multlevel Inheritance\n",
    "class grandfather():\n",
    "    def phone (self):\n",
    "        print(\"Grand Father Mobile\")\n",
    "class dad(grandfather):\n",
    "    def Money (self):\n",
    "        print(\"Money\")\n",
    "class son(dad):\n",
    "    def laptop(self):\n",
    "        print(\"Son's Laptop\")\n",
    "Ram=son()\n",
    "Ram.phone()\n",
    "Ram.Money()\n",
    "Ram.laptop()\n",
    "d=dad()\n",
    "d.phone()"
   ]
  },
  {
   "cell_type": "code",
   "execution_count": 3,
   "metadata": {},
   "outputs": [
    {
     "name": "stdout",
     "output_type": "stream",
     "text": [
      "Money\n"
     ]
    }
   ],
   "source": [
    "#Hierarchical Inheritance\n",
    "class dad():\n",
    "    def Money (self):\n",
    "        print(\"Money\")\n",
    "class son1(dad):\n",
    "    pass\n",
    "class son2(dad):\n",
    "    pass\n",
    "class son3(dad):\n",
    "    pass\n",
    "a=son1()\n",
    "a.Money()"
   ]
  },
  {
   "cell_type": "code",
   "execution_count": 31,
   "metadata": {},
   "outputs": [
    {
     "name": "stdout",
     "output_type": "stream",
     "text": [
      "Money\n",
      "Land\n"
     ]
    }
   ],
   "source": [
    "#Hybrid Inheritance\n",
    "class dad():\n",
    "    def Money (self):\n",
    "        print(\"Money\")\n",
    "class land():\n",
    "    def land(self):\n",
    "        print(\"Land\")\n",
    "class son1(dad,land):\n",
    "    pass\n",
    "class son2(dad):\n",
    "    pass\n",
    "class son3(dad):\n",
    "    pass\n",
    "a=son1()\n",
    "a.Money()\n",
    "a.land()"
   ]
  },
  {
   "cell_type": "code",
   "execution_count": 44,
   "metadata": {},
   "outputs": [
    {
     "name": "stdout",
     "output_type": "stream",
     "text": [
      "You are in class B\n",
      "C\n"
     ]
    }
   ],
   "source": [
    "class a():\n",
    "    def __init__(self):\n",
    "        print(\"A\")\n",
    "    def display(self):\n",
    "        print(\"You are in class A\")\n",
    "class b(a):\n",
    "    def __init__(self):\n",
    "        super().__init__() #Super Keyword\n",
    "        print(\"B\")\n",
    "    def display(self):\n",
    "        print(\"You are in class B\")\n",
    "class c(b,a):\n",
    "    def __init__(self):\n",
    "        super().display() #Super Keyword\n",
    "        print(\"C\")\n",
    "    def display(self):\n",
    "        print(\"You are in class C\")\n",
    "obj=c()"
   ]
  }
 ],
 "metadata": {
  "kernelspec": {
   "display_name": "Python 3",
   "language": "python",
   "name": "python3"
  },
  "language_info": {
   "codemirror_mode": {
    "name": "ipython",
    "version": 3
   },
   "file_extension": ".py",
   "mimetype": "text/x-python",
   "name": "python",
   "nbconvert_exporter": "python",
   "pygments_lexer": "ipython3",
   "version": "3.11.4"
  },
  "orig_nbformat": 4
 },
 "nbformat": 4,
 "nbformat_minor": 2
}
