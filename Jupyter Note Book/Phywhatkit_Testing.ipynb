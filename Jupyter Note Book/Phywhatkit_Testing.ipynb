{
 "cells": [
  {
   "cell_type": "code",
   "execution_count": 3,
   "metadata": {},
   "outputs": [
    {
     "ename": "ValueError",
     "evalue": "invalid literal for int() with base 10: 's'",
     "output_type": "error",
     "traceback": [
      "\u001b[1;31m---------------------------------------------------------------------------\u001b[0m",
      "\u001b[1;31mValueError\u001b[0m                                Traceback (most recent call last)",
      "Cell \u001b[1;32mIn[3], line 1\u001b[0m\n\u001b[1;32m----> 1\u001b[0m Salary\u001b[39m=\u001b[39m\u001b[39mint\u001b[39;49m(\u001b[39minput\u001b[39;49m(\u001b[39m\"\u001b[39;49m\u001b[39mMonthly Salary:\u001b[39;49m\u001b[39m\"\u001b[39;49m))\n\u001b[0;32m      2\u001b[0m Age\u001b[39m=\u001b[39m\u001b[39mint\u001b[39m(\u001b[39minput\u001b[39m(\u001b[39m\"\u001b[39m\u001b[39mAge:\u001b[39m\u001b[39m\"\u001b[39m))\n\u001b[0;32m      3\u001b[0m \u001b[39mif\u001b[39;00m(Salary\u001b[39m>\u001b[39m\u001b[39m=\u001b[39m\u001b[39m20000\u001b[39m \u001b[39mor\u001b[39;00m Age\u001b[39m<\u001b[39m\u001b[39m=\u001b[39m\u001b[39m25\u001b[39m):\n",
      "\u001b[1;31mValueError\u001b[0m: invalid literal for int() with base 10: 's'"
     ]
    }
   ],
   "source": [
    "Salary=int(input(\"Monthly Salary:\"))\n",
    "Age=int(input(\"Age:\"))\n",
    "if(Salary>=20000 or Age<=25):\n",
    "    loan=int(input(\"Loan Amount\"))\n",
    "    if(loan<=50000):\n",
    "        print(\"Loan is available for\",loan)\n",
    "    else:\n",
    "        print(\"Your maximum limit is 50000\")\n",
    "    print(\"You are elegible for loan\")\n",
    "else:\n",
    "    print(\"You are not elegible for loan\")"
   ]
  },
  {
   "cell_type": "code",
   "execution_count": null,
   "metadata": {},
   "outputs": [],
   "source": [
    "Tamil=int(input(\"Enter the Tamil score:\"))\n",
    "English=int(input(\"Enter the English score:\"))\n",
    "Maths=int(input(\"Enter the Maths score:\"))\n",
    "Science=int(input(\"Enter the Science score:\"))\n",
    "Social=int(input(\"Enter the Social score:\"))\n",
    "Add=Tamil+English+Maths+Science+Social\n",
    "Avg= Add/5\n",
    "if(Avg>=35):\n",
    "    print(\"Pass\")\n",
    "else:\n",
    "    print(\"Fail\")"
   ]
  },
  {
   "cell_type": "code",
   "execution_count": null,
   "metadata": {},
   "outputs": [],
   "source": [
    "counter = 0\n",
    "\n",
    "while counter < 10:\n",
    "    print(counter)\n",
    "    counter += 1\n",
    "\n",
    "print(\"Loop ended\")"
   ]
  }
 ],
 "metadata": {
  "kernelspec": {
   "display_name": "Python 3",
   "language": "python",
   "name": "python3"
  },
  "language_info": {
   "codemirror_mode": {
    "name": "ipython",
    "version": 3
   },
   "file_extension": ".py",
   "mimetype": "text/x-python",
   "name": "python",
   "nbconvert_exporter": "python",
   "pygments_lexer": "ipython3",
   "version": "3.11.4"
  },
  "orig_nbformat": 4
 },
 "nbformat": 4,
 "nbformat_minor": 2
}
