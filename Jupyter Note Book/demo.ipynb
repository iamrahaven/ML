{
 "cells": [
  {
   "cell_type": "code",
   "execution_count": null,
   "metadata": {},
   "outputs": [],
   "source": [
    "Meghna=input(\"Alive(or)Died: \")\n",
    "if(Meghna==\"Died\"):\n",
    "    print(\"Surya Meets Priya\")\n",
    "else:\n",
    "    print(\"Surya weds Meghna\")"
   ]
  },
  {
   "cell_type": "code",
   "execution_count": 2,
   "metadata": {},
   "outputs": [
    {
     "name": "stdout",
     "output_type": "stream",
     "text": [
      "8.0\n",
      "Enter the Valid Value\n",
      "67.0\n",
      "Invalid Opreater:\n",
      "Enter the Valid Value\n",
      "Enter the Valid Value\n",
      "\n",
      "Calculator terminated.\n"
     ]
    }
   ],
   "source": [
    "def Calculator():\n",
    "    while True:\n",
    "        try:\n",
    "            a=float(input(\"A:\"))\n",
    "            b=float(input(\"B:\"))\n",
    "            c=input(\"Add/Sub/Multi/div:\")\n",
    "            if(c==\"Add\" or c==\"add\"):\n",
    "                print(a+b)\n",
    "            elif(c==\"Sub\" or c==\"sub\"):\n",
    "                print(a-b)\n",
    "            elif(c==\"Multi\" or c==\"multi\"):\n",
    "                print(a*b)\n",
    "            elif(c==\"Div\" or c==\"div\"):\n",
    "                if (b==0):\n",
    "                    print(\"Division by zero is not allowed!\")\n",
    "                else:\n",
    "                    print(a/b)\n",
    "            else:\n",
    "                print(\"Invalid Opreater:\")\n",
    "        except ValueError:\n",
    "            print(\"Enter the Valid Value\")\n",
    "        except KeyboardInterrupt:\n",
    "            print(\"\\nCalculator terminated.\")\n",
    "            break\n",
    "Calculator()"
   ]
  }
 ],
 "metadata": {
  "kernelspec": {
   "display_name": "Python 3",
   "language": "python",
   "name": "python3"
  },
  "language_info": {
   "codemirror_mode": {
    "name": "ipython",
    "version": 3
   },
   "file_extension": ".py",
   "mimetype": "text/x-python",
   "name": "python",
   "nbconvert_exporter": "python",
   "pygments_lexer": "ipython3",
   "version": "3.11.4"
  },
  "orig_nbformat": 4
 },
 "nbformat": 4,
 "nbformat_minor": 2
}
