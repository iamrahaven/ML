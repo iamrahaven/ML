{
 "cells": [
  {
   "cell_type": "code",
   "execution_count": 1,
   "metadata": {},
   "outputs": [
    {
     "name": "stdout",
     "output_type": "stream",
     "text": [
      "Hari\n",
      "Drink: Yes\n",
      "Lets party...\n",
      "Vasi\n",
      "Drink: No\n",
      "Enjoy the Beach...\n"
     ]
    }
   ],
   "source": [
    "class goa:\n",
    "    name=\"\"\n",
    "    drink=\"\"\n",
    "    def party(self):\n",
    "        print(\"Lets party...\")\n",
    "    def beach(self):\n",
    "        print(\"Enjoy the Beach...\")\n",
    "hari=goa()\n",
    "vasi=goa()\n",
    "hari.name=\"Hari\"\n",
    "hari.drink=\"Yes\"\n",
    "vasi.name=\"Vasi\"\n",
    "vasi.drink=\"No\"\n",
    "print(hari.name)\n",
    "print(\"Drink:\",hari.drink)\n",
    "hari.party()\n",
    "print(vasi.name)\n",
    "print(\"Drink:\",vasi.drink)\n",
    "vasi.beach()"
   ]
  },
  {
   "cell_type": "code",
   "execution_count": 15,
   "metadata": {},
   "outputs": [
    {
     "name": "stdout",
     "output_type": "stream",
     "text": [
      "HP\n",
      "Price: 50,000\n",
      "Processor: Intel\n",
      "RAM: 16 GB\n",
      "DELL\n",
      "Price: 70,000\n",
      "Processor: AMD\n",
      "RAM: 16 GB\n",
      "LENOVO\n",
      "Price: 25,000\n",
      "Processor: Intel i7 11gen\n",
      "RAM: 8 GB\n"
     ]
    }
   ],
   "source": [
    "class laptop:\n",
    "    pirce=0\n",
    "    processor=\"\"\n",
    "    ram=\"\"\n",
    "    def hp(self):\n",
    "        print(\"HP\")\n",
    "    def dell(self):\n",
    "        print(\"DELL\")\n",
    "    def lenovo(self):\n",
    "        print(\"LENOVO\")\n",
    "HP=laptop()\n",
    "DELL=laptop()\n",
    "LENOVO=laptop()\n",
    "HP.hp()\n",
    "HP.pirce=\"50,000\"\n",
    "HP.processor=\"Intel\"\n",
    "HP.ram=\"16 GB\"\n",
    "print(\"Price:\",HP.pirce)\n",
    "print(\"Processor:\",HP.processor)\n",
    "print(\"RAM:\",HP.ram)\n",
    "DELL.dell()\n",
    "DELL.pirce=\"70,000\"\n",
    "DELL.processor=\"AMD\"\n",
    "DELL.ram=\"16 GB\"\n",
    "print(\"Price:\",DELL.pirce)\n",
    "print(\"Processor:\",DELL.processor)\n",
    "print(\"RAM:\",DELL.ram)\n",
    "LENOVO.lenovo()\n",
    "LENOVO.pirce=\"25,000\"\n",
    "LENOVO.processor=\"Intel i7 11gen\"\n",
    "LENOVO.ram=\"8 GB\"\n",
    "print(\"Price:\",LENOVO.pirce)\n",
    "print(\"Processor:\",LENOVO.processor)\n",
    "print(\"RAM:\",LENOVO.ram)"
   ]
  },
  {
   "cell_type": "code",
   "execution_count": 39,
   "metadata": {},
   "outputs": [
    {
     "name": "stdout",
     "output_type": "stream",
     "text": [
      "HP Laptops\n",
      "Price: 50,000\n",
      "Ram: 32 GB\n",
      "Processor: Intel i11 10gen\n",
      "DELL Laptops\n",
      "Price: 70,000\n",
      "Ram: 16 GB\n",
      "Processor: AMD\n",
      "LENOVO Laptops\n",
      "Price: 25,000\n",
      "Ram: 8 GB\n",
      "Processor: Intel i7 11gen\n"
     ]
    }
   ],
   "source": [
    "class laptop:\n",
    "    def __init__(self): #constructon\n",
    "        self.price=0\n",
    "        self.ram=\"\"\n",
    "        self.processor=\"\"\n",
    "    def display(self):\n",
    "        print(\"Price:\",self.price)\n",
    "        print(\"Ram:\",self.ram,\"GB\")\n",
    "        print(\"Processor:\",self.processor)\n",
    "HP=laptop()\n",
    "DELL=laptop()\n",
    "LENOVO=laptop()\n",
    "\n",
    "HP.price=\"50,000\"\n",
    "HP.processor=\"Intel i11 10gen\"\n",
    "HP.ram=\"32\"\n",
    "DELL.price=\"70,000\"\n",
    "DELL.processor=\"AMD\"\n",
    "DELL.ram=\"16\"\n",
    "LENOVO.price=\"25,000\"\n",
    "LENOVO.processor=\"Intel i7 11gen\"\n",
    "LENOVO.ram=\"8\"\n",
    "print(\"HP Laptops\")\n",
    "HP.display()\n",
    "print(\"DELL Laptops\")\n",
    "DELL.display()\n",
    "print(\"LENOVO Laptops\")\n",
    "LENOVO.display()\n",
    "\n",
    "class hari: #empty class\n",
    "    pass\n"
   ]
  },
  {
   "cell_type": "code",
   "execution_count": 4,
   "metadata": {},
   "outputs": [
    {
     "name": "stdout",
     "output_type": "stream",
     "text": [
      "Enter the values\n",
      "Enter the values\n",
      "Enter the values\n",
      "01 Arun 24\n",
      "02 Logesh 25\n",
      "03 Rahaven 25\n"
     ]
    }
   ],
   "source": [
    "class student:\n",
    "   def __init__(self)-> None:\n",
    "      self.Name=\"\"\n",
    "      self.Reg=\"\"\n",
    "      self.Age=\"\"\n",
    "      print(\"Enter the values\")\n",
    "   def display(self):\n",
    "      print(self.Reg,self.Name,self.Age)\n",
    "\n",
    "s1=student()\n",
    "s2=student()\n",
    "s3=student()\n",
    "\n",
    "s1.Name=\"Arun\"\n",
    "s1.Reg=\"01\"\n",
    "s1.Age= \"24\"\n",
    "s2.Name=\"Logesh\"\n",
    "s2.Reg=\"02\"\n",
    "s2.Age= \"25\"\n",
    "s3.Name=\"Rahaven\"\n",
    "s3.Reg=\"03\"\n",
    "s3.Age= \"25\"\n",
    "\n",
    "s1.display()\n",
    "s2.display()\n",
    "s3.display()"
   ]
  },
  {
   "cell_type": "code",
   "execution_count": 2,
   "metadata": {},
   "outputs": [
    {
     "name": "stdout",
     "output_type": "stream",
     "text": [
      "Room Boys\n"
     ]
    },
    {
     "name": "stdout",
     "output_type": "stream",
     "text": [
      "1 Vasi 22\n",
      "2 Hari 25\n",
      "3 Vijay 28\n",
      "4 Sweda 26\n",
      "5 Gayathri 27\n",
      "6 Piriya 32\n"
     ]
    }
   ],
   "source": [
    "class sai_hostel:\n",
    "   print(\"Room Boys\")\n",
    "   def __init__(self): #-> None:\n",
    "      self.Reg=\"\"\n",
    "      self.Name=\"\"\n",
    "      self.Age=\"\"\n",
    "   def display(self):\n",
    "      print(self.Reg,self.Name,self.Age)\n",
    "a=int(input(\"How Many People in this Room:\"))\n",
    "for Loop in range(1,a+1):\n",
    "   s=sai_hostel()\n",
    "   s.Reg=Loop\n",
    "   s.Name=input(\"Enter the Name:\")\n",
    "   s.Age= int(input(\"Enter the Age:\"))\n",
    "   s.display()\n"
   ]
  },
  {
   "cell_type": "code",
   "execution_count": 8,
   "metadata": {},
   "outputs": [
    {
     "name": "stdout",
     "output_type": "stream",
     "text": [
      "Red\n"
     ]
    }
   ],
   "source": [
    "class fruit:\n",
    "    def __init__(self,col):\n",
    "      self.color=col\n",
    "apple=fruit(\"Red\")\n",
    "#apple.color=\"Red\"\n",
    "print(apple.color)\n",
    "    "
   ]
  },
  {
   "cell_type": "code",
   "execution_count": 1,
   "metadata": {},
   "outputs": [
    {
     "name": "stdout",
     "output_type": "stream",
     "text": [
      "01 vasi\n",
      "02 Rahavendher Raj\n"
     ]
    }
   ],
   "source": [
    "class teacher:\n",
    "     def __init__(self,name,reg):\n",
    "        self.name=name\n",
    "        self.reg=reg\n",
    "     def display(self):\n",
    "        print(self.reg,self.name)\n",
    "T1=teacher(\"vasi\",\"01\")\n",
    "T2=teacher(\"Rahavendher Raj\",\"02\")\n",
    "T1.display()\n",
    "T2.display()"
   ]
  },
  {
   "cell_type": "code",
   "execution_count": 4,
   "metadata": {},
   "outputs": [
    {
     "name": "stdout",
     "output_type": "stream",
     "text": [
      "Addition: 11.0\n",
      "Subration: -1.0\n",
      "Multiplicaton: 30.0\n",
      "Division: 0.8333333333333334\n"
     ]
    }
   ],
   "source": [
    "class calcualtor:\n",
    "    def __init__(self,a,b):\n",
    "        self.num1=a\n",
    "        self.num2=b\n",
    "    def add (self):\n",
    "        print(\"Addition:\",self.num1+self.num2)\n",
    "    def sub (self):\n",
    "        print(\"Subration:\",self.num1-self.num2)\n",
    "    def multi (self):\n",
    "        print(\"Multiplicaton:\",self.num1*self.num2)\n",
    "    def div (self):\n",
    "        if(self.num2==0):\n",
    "            print(\"Error: Division by zero is not allowed!\")\n",
    "        else:\n",
    "            print(\"Division:\",self.num1/self.num2)\n",
    "\n",
    "Num1=float(input(\"A: \"))\n",
    "Num2=float(input(\"B: \"))    \n",
    "Obj=calcualtor(Num1,Num2)\n",
    "Obj.add()\n",
    "Obj.sub()\n",
    "Obj.multi()\n",
    "Obj.div()"
   ]
  }
 ],
 "metadata": {
  "kernelspec": {
   "display_name": "Python 3",
   "language": "python",
   "name": "python3"
  },
  "language_info": {
   "codemirror_mode": {
    "name": "ipython",
    "version": 3
   },
   "file_extension": ".py",
   "mimetype": "text/x-python",
   "name": "python",
   "nbconvert_exporter": "python",
   "pygments_lexer": "ipython3",
   "version": "3.11.4"
  },
  "orig_nbformat": 4
 },
 "nbformat": 4,
 "nbformat_minor": 2
}
