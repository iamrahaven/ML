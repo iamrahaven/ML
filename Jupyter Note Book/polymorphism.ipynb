{
 "cells": [
  {
   "cell_type": "code",
   "execution_count": 51,
   "metadata": {},
   "outputs": [
    {
     "name": "stdout",
     "output_type": "stream",
     "text": [
      "30\n",
      "60\n"
     ]
    }
   ],
   "source": [
    "def add(a,b,c=0):\n",
    "    print(a+b+c)\n",
    "add(10,20)\n",
    "add(10,20,30)"
   ]
  },
  {
   "cell_type": "code",
   "execution_count": 52,
   "metadata": {},
   "outputs": [
    {
     "name": "stdout",
     "output_type": "stream",
     "text": [
      "Bird Sings\n"
     ]
    }
   ],
   "source": [
    "class Animal():\n",
    "    def Sound(self):\n",
    "        print(\"Animal makes a sound.\")\n",
    "class Dog(Animal): #method overrite\n",
    "    def Sound(self):\n",
    "        print(\"Dog barks:\")\n",
    "class Bird(Animal):\n",
    "    def Sound(self):\n",
    "        print(\"Bird Sings\")\n",
    "        \n",
    "b1=Bird()\n",
    "b1.Sound()"
   ]
  },
  {
   "cell_type": "code",
   "execution_count": 53,
   "metadata": {},
   "outputs": [
    {
     "name": "stdout",
     "output_type": "stream",
     "text": [
      "200\n"
     ]
    }
   ],
   "source": [
    "class shape():\n",
    "    def area(self):\n",
    "        return 0\n",
    "class rectanagle(shape): #Method over writting\n",
    "    def area(self):\n",
    "        l=10\n",
    "        b=20\n",
    "        print(l*b)\n",
    "r1=rectanagle()\n",
    "r1.area()"
   ]
  },
  {
   "cell_type": "code",
   "execution_count": 59,
   "metadata": {},
   "outputs": [
    {
     "name": "stdout",
     "output_type": "stream",
     "text": [
      "Jhon O\n"
     ]
    }
   ],
   "source": [
    "class person():\n",
    "    def __init__(self,name):\n",
    "        self.name=name\n",
    "class student(person):\n",
    "    def __init__(self,name,grade):\n",
    "        super(). __init__(name)\n",
    "        self.grade=grade\n",
    "    def display(self):\n",
    "        print(self.name,self.grade)\n",
    "       \n",
    "s1=student(\"Jhon\",\"O\")\n",
    "s1.display()"
   ]
  },
  {
   "cell_type": "code",
   "execution_count": 55,
   "metadata": {},
   "outputs": [
    {
     "name": "stdout",
     "output_type": "stream",
     "text": [
      "Car Started:\n"
     ]
    }
   ],
   "source": [
    "class vehicle():\n",
    "    def start(self):\n",
    "        print(\"Vehicle Started: \")\n",
    "class car(vehicle):\n",
    "    def display(self):\n",
    "        print(\"Car Started:\")\n",
    "c=car()\n",
    "c.display()\n",
    "    "
   ]
  },
  {
   "cell_type": "code",
   "execution_count": 62,
   "metadata": {},
   "outputs": [
    {
     "name": "stdout",
     "output_type": "stream",
     "text": [
      "RAHAVENDHER RAJ A BK 100000 DATA SCIENTIST\n"
     ]
    }
   ],
   "source": [
    "class employee():\n",
    "    def __init__(self,name,salary):\n",
    "        self.name=name\n",
    "        self.salary=salary\n",
    "class manager(employee):\n",
    "    def __init__(self,name,salary,department):\n",
    "        super(). __init__(name,salary)\n",
    "        self.department=department\n",
    "    def display(self):\n",
    "        print(self.name,self.salary,self.department)\n",
    "a=input(\"Name: \")\n",
    "b=int(input(\"Salary: \"))\n",
    "c=input(\"Department: \")\n",
    "m1=manager(a,b,c)\n",
    "m1.display()"
   ]
  }
 ],
 "metadata": {
  "kernelspec": {
   "display_name": "Python 3",
   "language": "python",
   "name": "python3"
  },
  "language_info": {
   "codemirror_mode": {
    "name": "ipython",
    "version": 3
   },
   "file_extension": ".py",
   "mimetype": "text/x-python",
   "name": "python",
   "nbconvert_exporter": "python",
   "pygments_lexer": "ipython3",
   "version": "3.11.4"
  },
  "orig_nbformat": 4
 },
 "nbformat": 4,
 "nbformat_minor": 2
}
