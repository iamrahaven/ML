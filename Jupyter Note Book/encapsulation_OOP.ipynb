{
 "cells": [
  {
   "cell_type": "code",
   "execution_count": 16,
   "metadata": {},
   "outputs": [
    {
     "name": "stdout",
     "output_type": "stream",
     "text": [
      "Yahoo\n"
     ]
    }
   ],
   "source": [
    "class company():\n",
    "    def __init__(self):\n",
    "        self.__companyname=\"Google\"\n",
    "    def Comapanyname(self):\n",
    "        print(self.__companyname)\n",
    "c=company()\n",
    "c.companyname=\"Yahoo\"\n",
    "print(c.companyname)\n",
    "#c.Comapanyname()\n"
   ]
  },
  {
   "cell_type": "code",
   "execution_count": 32,
   "metadata": {},
   "outputs": [
    {
     "name": "stdout",
     "output_type": "stream",
     "text": [
      "Yahoo\n"
     ]
    }
   ],
   "source": [
    "class company():\n",
    "    def __init__(self):\n",
    "        self.__companyName=\"Yahoo\"\n",
    "    def companyName(self):\n",
    "        print(self.__companyName)\n",
    "c1=company()\n",
    "c1.companyName()\n",
    "c.companyname=\"google\""
   ]
  },
  {
   "cell_type": "code",
   "execution_count": null,
   "metadata": {},
   "outputs": [],
   "source": [
    "class company():\n",
    "    def __init__(self):\n",
    "        self.__companyName=\"Yahoo\"\n",
    "    def companyName(self):\n",
    "        print(self.__companyName)\n",
    "c1=company()\n",
    "c1.companyName()\n",
    "c.companyname=\"google\""
   ]
  }
 ],
 "metadata": {
  "kernelspec": {
   "display_name": "Python 3",
   "language": "python",
   "name": "python3"
  },
  "language_info": {
   "codemirror_mode": {
    "name": "ipython",
    "version": 3
   },
   "file_extension": ".py",
   "mimetype": "text/x-python",
   "name": "python",
   "nbconvert_exporter": "python",
   "pygments_lexer": "ipython3",
   "version": "3.11.4"
  },
  "orig_nbformat": 4
 },
 "nbformat": 4,
 "nbformat_minor": 2
}
